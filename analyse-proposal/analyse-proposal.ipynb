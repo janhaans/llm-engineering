{
 "cells": [
  {
   "cell_type": "markdown",
   "id": "1b19c1f5",
   "metadata": {},
   "source": [
    "# Introduction\n",
    "\n",
    "This notebook shows how to get a analyse an architecture proposal for an architecture use case using OpenAI API"
   ]
  },
  {
   "cell_type": "markdown",
   "id": "7d22f7ac",
   "metadata": {},
   "source": [
    "# Load OpenAI API key"
   ]
  },
  {
   "cell_type": "code",
   "execution_count": 1,
   "id": "85a98492",
   "metadata": {},
   "outputs": [
    {
     "name": "stdout",
     "output_type": "stream",
     "text": [
      "API key loaded: sk-pr... (truncated)\n"
     ]
    }
   ],
   "source": [
    "import os\n",
    "from dotenv import load_dotenv\n",
    "\n",
    "load_dotenv()\n",
    "api_key = os.getenv(\"OPENAI_API_KEY\")\n",
    "\n",
    "if api_key:\n",
    "    print(f\"API key loaded: {api_key[:5]}... (truncated)\")\n",
    "else:\n",
    "    print(\"API key not loaded\")"
   ]
  },
  {
   "cell_type": "markdown",
   "id": "9f395f4c",
   "metadata": {},
   "source": [
    "# Create OpenAI client"
   ]
  },
  {
   "cell_type": "code",
   "execution_count": 2,
   "id": "44eb0240",
   "metadata": {},
   "outputs": [
    {
     "name": "stdout",
     "output_type": "stream",
     "text": [
      "OpenAI client created successfully.\n"
     ]
    }
   ],
   "source": [
    "from openai import OpenAI\n",
    "\n",
    "try:\n",
    "    openai_client = OpenAI()\n",
    "    print(\"OpenAI client created successfully.\")\n",
    "except Exception as e:\n",
    "    print(f\"Failed to create OpenAI client: {e}\")"
   ]
  },
  {
   "cell_type": "markdown",
   "id": "c327b752",
   "metadata": {},
   "source": [
    "# Upload pdf documents to OpenAI API Assistent"
   ]
  },
  {
   "cell_type": "code",
   "execution_count": 3,
   "id": "5c87bff6",
   "metadata": {},
   "outputs": [
    {
     "name": "stdout",
     "output_type": "stream",
     "text": [
      "Uploaded file ID: file-63xZLJN3Rdc325r37TDtZv\n"
     ]
    }
   ],
   "source": [
    "case = openai_client.files.create(\n",
    "    file=open(\"Tech_Screening_Cloud_Architect.pdf\", \"rb\"),\n",
    "    purpose=\"assistants\"\n",
    ")\n",
    "print(\"Uploaded file ID:\", case.id)"
   ]
  },
  {
   "cell_type": "code",
   "execution_count": 4,
   "id": "0b59da43",
   "metadata": {},
   "outputs": [
    {
     "name": "stdout",
     "output_type": "stream",
     "text": [
      "Uploaded file ID: file-AgxiidTtKZoMe3LqZv8ybk\n"
     ]
    }
   ],
   "source": [
    "answer = openai_client.files.create(\n",
    "    file=open(\"mixtapes.pdf\", \"rb\"),\n",
    "    purpose=\"assistants\"\n",
    ")\n",
    "print(\"Uploaded file ID:\", answer.id)"
   ]
  },
  {
   "cell_type": "code",
   "execution_count": 15,
   "id": "f2745ccc",
   "metadata": {},
   "outputs": [],
   "source": [
    "# Check the file you have uploaded\n",
    "files = openai_client.files.list()\n",
    "for f in files.data:\n",
    "    print(f\"{f.id} | {f.filename} | {f.purpose} | {f.status}\")"
   ]
  },
  {
   "cell_type": "markdown",
   "id": "f4229389",
   "metadata": {},
   "source": [
    "# Create API assistant"
   ]
  },
  {
   "cell_type": "code",
   "execution_count": 6,
   "id": "92980fb1",
   "metadata": {},
   "outputs": [
    {
     "name": "stdout",
     "output_type": "stream",
     "text": [
      "Assistant ID: asst_MzATDPG6Zi0Q45z0ZTIMsDey\n"
     ]
    }
   ],
   "source": [
    "assistant = openai_client.beta.assistants.create(\n",
    "    name=\"Document Analyzer\",\n",
    "    instructions=\"You analyse 2 documents, the case document presents a case and the answer document provides a response. You will analyse the case document. You will analyse the answer document. You will analyse how well the answer document is an answer on the case document and will descibe what aspects of the case are answered and what aspects are not answered and the output of this analysis is in markdown format. Also you will output some questions that can be asked (with the motivation of the question) to the writer of the answer document and output this in marksown format.\",\n",
    "    tools=[{\"type\": \"file_search\"}],\n",
    "    model=\"gpt-4o\"\n",
    ")\n",
    "print(\"Assistant ID:\", assistant.id)"
   ]
  },
  {
   "cell_type": "markdown",
   "id": "b28929ea",
   "metadata": {},
   "source": [
    "# Create a thread"
   ]
  },
  {
   "cell_type": "code",
   "execution_count": 7,
   "id": "a6c85ea1",
   "metadata": {},
   "outputs": [
    {
     "name": "stderr",
     "output_type": "stream",
     "text": [
      "/var/folders/dr/zycbh73n35l83v_pny17zkmm0000gn/T/ipykernel_26426/3380736637.py:1: DeprecationWarning: The Assistants API is deprecated in favor of the Responses API\n",
      "  thread = openai_client.beta.threads.create()\n"
     ]
    },
    {
     "name": "stdout",
     "output_type": "stream",
     "text": [
      "Thread ID: thread_bNEjpn1mS9LwyiD0mbaes7kI\n"
     ]
    }
   ],
   "source": [
    "thread = openai_client.beta.threads.create()\n",
    "print(\"Thread ID:\", thread.id)"
   ]
  },
  {
   "cell_type": "markdown",
   "id": "894373e0",
   "metadata": {},
   "source": [
    "# Send a message with attached file"
   ]
  },
  {
   "cell_type": "code",
   "execution_count": 8,
   "id": "5a6b675c",
   "metadata": {},
   "outputs": [
    {
     "name": "stderr",
     "output_type": "stream",
     "text": [
      "/var/folders/dr/zycbh73n35l83v_pny17zkmm0000gn/T/ipykernel_26426/4039859897.py:1: DeprecationWarning: The Assistants API is deprecated in favor of the Responses API\n",
      "  message = openai_client.beta.threads.messages.create(\n"
     ]
    },
    {
     "name": "stdout",
     "output_type": "stream",
     "text": [
      "Message ID: msg_kRVnHYLgP7feyaeoZ8laofIT\n"
     ]
    }
   ],
   "source": [
    "message = openai_client.beta.threads.messages.create(\n",
    "    thread_id=thread.id,\n",
    "    role=\"user\",\n",
    "    content=f\"You analyse 2 documents, the case document with file_id = {answer.id} presents a case and the answer document with file_id = {case.id} provides a response. You will analyse the case document with file_id = {answer.id}. You will analyse the answer document with file_id = {case.id}. You will analyse how well the answer document with file_id = {case.id} is an answer on the case document with file_id = {answer.id} and will descibe what aspects of the case are answered and what aspects are not answered and the output of this analysis is in markdown format. Also you will output some questions that can be asked (with the motivation of the question) to the writer of the answer document with file_id = {answer.id}and output this in markdown format.\",\n",
    "    attachments=[\n",
    "                {\n",
    "                    \"file_id\": answer.id,\n",
    "                    \"tools\": [{\"type\": \"file_search\"}]\n",
    "                },\n",
    "                {\n",
    "                    \"file_id\": case.id,\n",
    "                    \"tools\": [{\"type\": \"file_search\"}]\n",
    "                }\n",
    "            ]\n",
    ")\n",
    "print(\"Message ID:\", message.id)"
   ]
  },
  {
   "cell_type": "markdown",
   "id": "da89cb0c",
   "metadata": {},
   "source": [
    "# Start a run and attach the pdf document"
   ]
  },
  {
   "cell_type": "code",
   "execution_count": 9,
   "id": "17f5ceae",
   "metadata": {},
   "outputs": [
    {
     "name": "stderr",
     "output_type": "stream",
     "text": [
      "/var/folders/dr/zycbh73n35l83v_pny17zkmm0000gn/T/ipykernel_26426/3179579540.py:1: DeprecationWarning: The Assistants API is deprecated in favor of the Responses API\n",
      "  run = openai_client.beta.threads.runs.create(\n"
     ]
    }
   ],
   "source": [
    "run = openai_client.beta.threads.runs.create(\n",
    "            thread_id=thread.id,\n",
    "            assistant_id=assistant.id,\n",
    "        )"
   ]
  },
  {
   "cell_type": "markdown",
   "id": "451ad681",
   "metadata": {},
   "source": [
    "# Poll for result"
   ]
  },
  {
   "cell_type": "code",
   "execution_count": 10,
   "id": "34e6cba8",
   "metadata": {},
   "outputs": [
    {
     "name": "stderr",
     "output_type": "stream",
     "text": [
      "/var/folders/dr/zycbh73n35l83v_pny17zkmm0000gn/T/ipykernel_26426/295530023.py:3: DeprecationWarning: The Assistants API is deprecated in favor of the Responses API\n",
      "  run_status = openai_client.beta.threads.runs.retrieve(thread_id=thread.id, run_id=run.id)\n"
     ]
    }
   ],
   "source": [
    "import time\n",
    "while True:\n",
    "    run_status = openai_client.beta.threads.runs.retrieve(thread_id=thread.id, run_id=run.id)\n",
    "    if run_status.status in [\"completed\", \"failed\"]:\n",
    "        break\n",
    "    time.sleep(1)"
   ]
  },
  {
   "cell_type": "markdown",
   "id": "f4dca017",
   "metadata": {},
   "source": [
    "# Read the assistant’s response"
   ]
  },
  {
   "cell_type": "code",
   "execution_count": 11,
   "id": "11178bbd",
   "metadata": {},
   "outputs": [],
   "source": [
    "from IPython.display import Markdown, display\n",
    "\n",
    "def display_markdown(text):\n",
    "    display(Markdown(text))"
   ]
  },
  {
   "cell_type": "code",
   "execution_count": 12,
   "id": "6a3cd90a",
   "metadata": {},
   "outputs": [
    {
     "name": "stderr",
     "output_type": "stream",
     "text": [
      "/var/folders/dr/zycbh73n35l83v_pny17zkmm0000gn/T/ipykernel_26426/2528440396.py:1: DeprecationWarning: The Assistants API is deprecated in favor of the Responses API\n",
      "  messages = openai_client.beta.threads.messages.list(thread_id=thread.id)\n"
     ]
    },
    {
     "data": {
      "text/markdown": [
       "You analyse 2 documents, the case document with file_id = file-AgxiidTtKZoMe3LqZv8ybk presents a case and the answer document with file_id = file-63xZLJN3Rdc325r37TDtZv provides a response. You will analyse the case document with file_id = file-AgxiidTtKZoMe3LqZv8ybk. You will analyse the answer document with file_id = file-63xZLJN3Rdc325r37TDtZv. You will analyse how well the answer document with file_id = file-63xZLJN3Rdc325r37TDtZv is an answer on the case document with file_id = file-AgxiidTtKZoMe3LqZv8ybk and will descibe what aspects of the case are answered and what aspects are not answered and the output of this analysis is in markdown format. Also you will output some questions that can be asked (with the motivation of the question) to the writer of the answer document with file_id = file-AgxiidTtKZoMe3LqZv8ybkand output this in markdown format."
      ],
      "text/plain": [
       "<IPython.core.display.Markdown object>"
      ]
     },
     "metadata": {},
     "output_type": "display_data"
    },
    {
     "data": {
      "text/markdown": [
       "## Analysis of Documents\n",
       "\n",
       "### Case Document: Mixtapes Case Study (file-AgxiidTtKZoMe3LqZv8ybk)\n",
       "\n",
       "The case document outlines the strategic plan for migrating the Mixtapes platform to a scalable cloud infrastructure using Microsoft Azure. It provides a detailed comparison between the current AS-IS infrastructure hosted locally in Amsterdam and the proposed TO-BE architecture on Azure. Key highlights include:\n",
       "\n",
       "- Reduced annual costs from €15,000 to €11,200 by migrating to Azure【4:0†mixtapes.pdf】.\n",
       "- Improved global reach with Azure's multi-region deployments, enhancing user experience with lower latency【4:0†mixtapes.pdf】.\n",
       "- Implementation of advanced features like Azure Kubernetes Service for scalability, Azure Blob Storage for cost-efficient data management, and Azure CDN for fast global delivery【4:6†mixtapes.pdf】【4:15†mixtapes.pdf】.\n",
       "- Risk mitigation strategies such as data backups, geo-replication, and staged migrations to safeguard against data loss and ensure continuity【4:11†mixtapes.pdf】.\n",
       "\n",
       "### Answer Document: Tech Screening Cloud Architect (file-63xZLJN3Rdc325r37TDtZv)\n",
       "\n",
       "The answer document presents a scenario-based challenge for a Cloud Architect, where the focus is on proposing a cloud solution for the Mixtapes platform to support its international expansion. Important aspects covered include:\n",
       "\n",
       "- Encouragement for open-ended solutions regarding what might be changed in the backend while ensuring low costs and improved manageability【4:12†Tech_Screening_Cloud_Architect.pdf】.\n",
       "- Explanation of the current state of the Mixtapes platform and the opportunity to enhance it by exploiting cloud technologies for better scalability and performance【4:14†Tech_Screening_Cloud_Architect.pdf】.\n",
       "- Emphasis on engaging non-technical stakeholders like Gert-Jan by simplifying complex technical concepts and focusing on business outcomes such as cost management and system reliability【4:5†Tech_Screening_Cloud_Architect.pdf】\n",
       "\n",
       "### How Well the Answer Document Responds to the Case Document\n",
       "\n",
       "The answer document does align broadly with the case document in terms of identifying the primary objectives such as cost-effectiveness, scalability, and system performance. It effectively centers on how a Cloud Architect might approach the problem, considering budget constraints and international expansion needs【4:4†Tech_Screening_Cloud_Architect.pdf】【4:5†Tech_Screening_Cloud_Architect.pdf】.\n",
       "\n",
       "**Aspects Addressed:**\n",
       "\n",
       "- **Scalability and Performance:** Both documents emphasize the need for a robust, scalable architecture that supports international growth【4:13†Tech_Screening_Cloud_Architect.pdf】.\n",
       "- **Cost Efficiency:** The focus on maintaining cost-effective operations aligns with the financial benefits outlined in the case document【4:7†Tech_Screening_Cloud_Architect.pdf】.\n",
       "- **Technical Improvements:** Features like redundant data backups and automated management are implicitly suggested, though not detailed explicitly in the answer document.\n",
       "\n",
       "**Aspects Not Thoroughly Addressed:**\n",
       "\n",
       "- **Specific Technical Solutions:** While the case document provides a clear roadmap and technology stack (e.g., Azure services), the answer document encourages creativity but does not specify particular technologies.\n",
       "- **Detailed Migration Plan:** The technical specifics of migration, risk management, and operational management as detailed in the case are not explicitly covered in the answer【4:8†mixtapes.pdf】【4:9†mixtapes.pdf】.\n",
       "\n",
       "## Questions for the Writer of the Answer Document\n",
       "\n",
       "1. **Could you elaborate on the specific Azure services you would propose to use, and why, for each component (e.g., storage, compute, CDN)?**\n",
       "   - *Motivation: To align with the cloud strategy detailed in the case document, providing clarity on how you envision the architecture leveraging Azure's capabilities.*\n",
       "\n",
       "2. **What are the key milestones and timeline you foresee for implementing the migration to a cloud-based platform?**\n",
       "   - *Motivation: To ensure the proposed plan is actionable and measurable with respect to the detailed phases in the case document.*\n",
       "\n",
       "3. **How would you address potential data security and compliance issues during and after the migration process?**\n",
       "   - *Motivation: Addressing concerns about data integrity and security which are crucial for stakeholder confidence, as detailed in the case document.*\n",
       "\n",
       "4. **What specific steps would you recommend for risk mitigation and ensuring uninterrupted service during migration?**\n",
       "   - *Motivation: To compare the risk management strategies with those laid out in the migration proposal of the case document.*"
      ],
      "text/plain": [
       "<IPython.core.display.Markdown object>"
      ]
     },
     "metadata": {},
     "output_type": "display_data"
    }
   ],
   "source": [
    "messages = openai_client.beta.threads.messages.list(thread_id=thread.id)\n",
    "for msg in reversed(messages.data):\n",
    "    display_markdown(msg.content[0].text.value)"
   ]
  },
  {
   "cell_type": "markdown",
   "id": "3101865b",
   "metadata": {},
   "source": [
    "# Delete attached files"
   ]
  },
  {
   "cell_type": "code",
   "execution_count": 13,
   "id": "a935daef",
   "metadata": {},
   "outputs": [],
   "source": [
    "files = openai_client.files.list()\n",
    "for f in files.data:\n",
    "    openai_client.files.delete(file_id=f.id)"
   ]
  },
  {
   "cell_type": "code",
   "execution_count": 14,
   "id": "6431e950",
   "metadata": {},
   "outputs": [
    {
     "name": "stdout",
     "output_type": "stream",
     "text": [
      "All files have been deleted successfully.\n"
     ]
    }
   ],
   "source": [
    "# Check if all files have been deleted\n",
    "\n",
    "files = openai_client.files.list()\n",
    "if not files.data:\n",
    "    print(\"All files have been deleted successfully.\")\n",
    "else:\n",
    "    print(\"Some files were not deleted:\")\n",
    "    for f in files.data:\n",
    "        print(f\"{f.id} | {f.filename} | {f.purpose} | {f.status}\")"
   ]
  }
 ],
 "metadata": {
  "kernelspec": {
   "display_name": "llm",
   "language": "python",
   "name": "python3"
  },
  "language_info": {
   "codemirror_mode": {
    "name": "ipython",
    "version": 3
   },
   "file_extension": ".py",
   "mimetype": "text/x-python",
   "name": "python",
   "nbconvert_exporter": "python",
   "pygments_lexer": "ipython3",
   "version": "3.11.13"
  }
 },
 "nbformat": 4,
 "nbformat_minor": 5
}
