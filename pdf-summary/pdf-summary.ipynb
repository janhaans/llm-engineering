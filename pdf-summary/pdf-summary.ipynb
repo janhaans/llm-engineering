{
 "cells": [
  {
   "cell_type": "markdown",
   "id": "1b19c1f5",
   "metadata": {},
   "source": [
    "# Introduction\n",
    "\n",
    "This notebook shows how to get a summary of a pdf document using OpenAI API"
   ]
  },
  {
   "cell_type": "markdown",
   "id": "7d22f7ac",
   "metadata": {},
   "source": [
    "# Load OpenAI API key"
   ]
  },
  {
   "cell_type": "code",
   "execution_count": 1,
   "id": "85a98492",
   "metadata": {},
   "outputs": [
    {
     "name": "stdout",
     "output_type": "stream",
     "text": [
      "API key loaded: sk-pr... (truncated)\n"
     ]
    }
   ],
   "source": [
    "import os\n",
    "from dotenv import load_dotenv\n",
    "\n",
    "load_dotenv()\n",
    "api_key = os.getenv(\"OPENAI_API_KEY\")\n",
    "\n",
    "if api_key:\n",
    "    print(f\"API key loaded: {api_key[:5]}... (truncated)\")\n",
    "else:\n",
    "    print(\"API key not loaded\")"
   ]
  },
  {
   "cell_type": "markdown",
   "id": "9f395f4c",
   "metadata": {},
   "source": [
    "# Create OpenAI client"
   ]
  },
  {
   "cell_type": "code",
   "execution_count": 2,
   "id": "44eb0240",
   "metadata": {},
   "outputs": [
    {
     "name": "stdout",
     "output_type": "stream",
     "text": [
      "OpenAI client created successfully.\n"
     ]
    }
   ],
   "source": [
    "from openai import OpenAI\n",
    "\n",
    "try:\n",
    "    openai_client = OpenAI()\n",
    "    print(\"OpenAI client created successfully.\")\n",
    "except Exception as e:\n",
    "    print(f\"Failed to create OpenAI client: {e}\")"
   ]
  },
  {
   "cell_type": "markdown",
   "id": "c327b752",
   "metadata": {},
   "source": [
    "# Upload a pdf document to OpenAI API Assistent"
   ]
  },
  {
   "cell_type": "code",
   "execution_count": 3,
   "id": "5c87bff6",
   "metadata": {},
   "outputs": [
    {
     "name": "stdout",
     "output_type": "stream",
     "text": [
      "Uploaded file ID: file-HzTxHJ3uV9A4MaqcELqxbw\n"
     ]
    }
   ],
   "source": [
    "file = openai_client.files.create(\n",
    "    file=open(\"Tech_Screening_Cloud_Architect.pdf\", \"rb\"),\n",
    "    purpose=\"assistants\"\n",
    ")\n",
    "print(\"Uploaded file ID:\", file.id)"
   ]
  },
  {
   "cell_type": "code",
   "execution_count": 4,
   "id": "f2745ccc",
   "metadata": {},
   "outputs": [
    {
     "name": "stdout",
     "output_type": "stream",
     "text": [
      "file-HzTxHJ3uV9A4MaqcELqxbw | Tech_Screening_Cloud_Architect.pdf | assistants | processed\n"
     ]
    }
   ],
   "source": [
    "# Check the file you have uploaded\n",
    "files = openai_client.files.list()\n",
    "for f in files.data:\n",
    "    print(f\"{f.id} | {f.filename} | {f.purpose} | {f.status}\")"
   ]
  },
  {
   "cell_type": "markdown",
   "id": "f4229389",
   "metadata": {},
   "source": [
    "# Create API assistant"
   ]
  },
  {
   "cell_type": "code",
   "execution_count": 5,
   "id": "92980fb1",
   "metadata": {},
   "outputs": [
    {
     "name": "stdout",
     "output_type": "stream",
     "text": [
      "Assistant ID: asst_RhoI95pCTUQzSzMXoVWSAzDN\n"
     ]
    }
   ],
   "source": [
    "assistant = openai_client.beta.assistants.create(\n",
    "    name=\"Document Analyzer\",\n",
    "    instructions=\"You help summarize and analyze uploaded documents.\",\n",
    "    tools=[{\"type\": \"file_search\"}],\n",
    "    model=\"gpt-4o\"\n",
    ")\n",
    "print(\"Assistant ID:\", assistant.id)"
   ]
  },
  {
   "cell_type": "markdown",
   "id": "b28929ea",
   "metadata": {},
   "source": [
    "# Create a thread"
   ]
  },
  {
   "cell_type": "code",
   "execution_count": 6,
   "id": "a6c85ea1",
   "metadata": {},
   "outputs": [
    {
     "name": "stderr",
     "output_type": "stream",
     "text": [
      "/var/folders/dr/zycbh73n35l83v_pny17zkmm0000gn/T/ipykernel_25289/3380736637.py:1: DeprecationWarning: The Assistants API is deprecated in favor of the Responses API\n",
      "  thread = openai_client.beta.threads.create()\n"
     ]
    },
    {
     "name": "stdout",
     "output_type": "stream",
     "text": [
      "Thread ID: thread_eJgqh0j5TwoIq7yu4PLefUWR\n"
     ]
    }
   ],
   "source": [
    "thread = openai_client.beta.threads.create()\n",
    "print(\"Thread ID:\", thread.id)"
   ]
  },
  {
   "cell_type": "markdown",
   "id": "894373e0",
   "metadata": {},
   "source": [
    "# Send a message with attached file"
   ]
  },
  {
   "cell_type": "code",
   "execution_count": 7,
   "id": "5a6b675c",
   "metadata": {},
   "outputs": [
    {
     "name": "stderr",
     "output_type": "stream",
     "text": [
      "/var/folders/dr/zycbh73n35l83v_pny17zkmm0000gn/T/ipykernel_25289/1395749227.py:1: DeprecationWarning: The Assistants API is deprecated in favor of the Responses API\n",
      "  message = openai_client.beta.threads.messages.create(\n"
     ]
    },
    {
     "name": "stdout",
     "output_type": "stream",
     "text": [
      "Message ID: msg_ajky531qoMBaChK10trXQJXF\n"
     ]
    }
   ],
   "source": [
    "message = openai_client.beta.threads.messages.create(\n",
    "    thread_id=thread.id,\n",
    "    role=\"user\",\n",
    "    content=\"Can you summarize this document and write the summary in markdown format?\",\n",
    "    attachments=[\n",
    "                {\n",
    "                    \"file_id\": file.id,\n",
    "                    \"tools\": [{\"type\": \"file_search\"}]\n",
    "                }\n",
    "            ]\n",
    ")\n",
    "print(\"Message ID:\", message.id)"
   ]
  },
  {
   "cell_type": "markdown",
   "id": "da89cb0c",
   "metadata": {},
   "source": [
    "# Start a run and attach the pdf document"
   ]
  },
  {
   "cell_type": "code",
   "execution_count": 8,
   "id": "17f5ceae",
   "metadata": {},
   "outputs": [
    {
     "name": "stderr",
     "output_type": "stream",
     "text": [
      "/var/folders/dr/zycbh73n35l83v_pny17zkmm0000gn/T/ipykernel_25289/3179579540.py:1: DeprecationWarning: The Assistants API is deprecated in favor of the Responses API\n",
      "  run = openai_client.beta.threads.runs.create(\n"
     ]
    }
   ],
   "source": [
    "run = openai_client.beta.threads.runs.create(\n",
    "            thread_id=thread.id,\n",
    "            assistant_id=assistant.id,\n",
    "        )"
   ]
  },
  {
   "cell_type": "markdown",
   "id": "451ad681",
   "metadata": {},
   "source": [
    "# Poll for result"
   ]
  },
  {
   "cell_type": "code",
   "execution_count": 9,
   "id": "34e6cba8",
   "metadata": {},
   "outputs": [
    {
     "name": "stderr",
     "output_type": "stream",
     "text": [
      "/var/folders/dr/zycbh73n35l83v_pny17zkmm0000gn/T/ipykernel_25289/295530023.py:3: DeprecationWarning: The Assistants API is deprecated in favor of the Responses API\n",
      "  run_status = openai_client.beta.threads.runs.retrieve(thread_id=thread.id, run_id=run.id)\n"
     ]
    }
   ],
   "source": [
    "import time\n",
    "while True:\n",
    "    run_status = openai_client.beta.threads.runs.retrieve(thread_id=thread.id, run_id=run.id)\n",
    "    if run_status.status in [\"completed\", \"failed\"]:\n",
    "        break\n",
    "    time.sleep(1)"
   ]
  },
  {
   "cell_type": "markdown",
   "id": "f4dca017",
   "metadata": {},
   "source": [
    "# Read the assistant’s response"
   ]
  },
  {
   "cell_type": "code",
   "execution_count": 10,
   "id": "11178bbd",
   "metadata": {},
   "outputs": [],
   "source": [
    "from IPython.display import Markdown, display\n",
    "\n",
    "def display_markdown(text):\n",
    "    display(Markdown(text))"
   ]
  },
  {
   "cell_type": "code",
   "execution_count": 11,
   "id": "6a3cd90a",
   "metadata": {},
   "outputs": [
    {
     "name": "stderr",
     "output_type": "stream",
     "text": [
      "/var/folders/dr/zycbh73n35l83v_pny17zkmm0000gn/T/ipykernel_25289/2528440396.py:1: DeprecationWarning: The Assistants API is deprecated in favor of the Responses API\n",
      "  messages = openai_client.beta.threads.messages.list(thread_id=thread.id)\n"
     ]
    },
    {
     "data": {
      "text/markdown": [
       "Can you summarize this document and write the summary in markdown format?"
      ],
      "text/plain": [
       "<IPython.core.display.Markdown object>"
      ]
     },
     "metadata": {},
     "output_type": "display_data"
    },
    {
     "data": {
      "text/markdown": [
       "# Summary of Tech Screening Document\n",
       "\n",
       "## Introduction\n",
       "The document presents a technical challenge for a hypothetical Cloud Architect role. It centers on enhancing \"Mixtapes,\" a music-sharing platform initiated by Rocky Roads (RR), a record company. The goal is to make the platform scalable, faster, and future-proof, allowing musicians worldwide to share their talents easily.\n",
       "\n",
       "## Background\n",
       "Gert-Jan, founder of RR, conceptualized Mixtapes to revolutionize music distribution and discovery. Initially launched as a local platform in the Benelux, it is now poised for international growth, especially in the American and potentially Asian markets. Mixtapes serves as a community for artists to showcase their work for free, while record labels and other entities pay to scout talent【4:1†Tech_Screening_Cloud_Architect.pdf】.\n",
       "\n",
       "## Current Challenges\n",
       "The platform currently operates with traditional web hosting in Amsterdam, which suffices for regional users but does not deliver optimal performance globally. Gert-Jan is open to changes that improve cost-efficiency and scalability without altering the user experience on the frontend【4:4†Tech_Screening_Cloud_Architect.pdf】.\n",
       "\n",
       "## Technical Considerations\n",
       "Mixtapes utilizes a backend comprising SQL, a Redis-cluster, and PHP, with a RESTful API interfacing the frontend. The document highlights the need for a cloud solution that balances performance with costs, given the potential for significant international traffic【4:3†Tech_Screening_Cloud_Architect.pdf】.\n",
       "\n",
       "## Conclusion\n",
       "The document tasks the Cloud Architect with proposing a strategic plan for upgrading Mixtapes to handle its growing international presence while ensuring the platform remains cost-effective and user-friendly【4:5†Tech_Screening_Cloud_Architect.pdf】. It invites creative freedom in the approach, encouraging innovative solutions to enhance the platform's technological infrastructure."
      ],
      "text/plain": [
       "<IPython.core.display.Markdown object>"
      ]
     },
     "metadata": {},
     "output_type": "display_data"
    }
   ],
   "source": [
    "messages = openai_client.beta.threads.messages.list(thread_id=thread.id)\n",
    "for msg in reversed(messages.data):\n",
    "    display_markdown(msg.content[0].text.value)"
   ]
  },
  {
   "cell_type": "markdown",
   "id": "3101865b",
   "metadata": {},
   "source": [
    "# Delete attached files"
   ]
  },
  {
   "cell_type": "code",
   "execution_count": 12,
   "id": "a935daef",
   "metadata": {},
   "outputs": [],
   "source": [
    "files = openai_client.files.list()\n",
    "for f in files.data:\n",
    "    openai_client.files.delete(file_id=f.id)"
   ]
  },
  {
   "cell_type": "code",
   "execution_count": 13,
   "id": "6431e950",
   "metadata": {},
   "outputs": [
    {
     "name": "stdout",
     "output_type": "stream",
     "text": [
      "All files have been deleted successfully.\n"
     ]
    }
   ],
   "source": [
    "# Check if all files have been deleted\n",
    "\n",
    "files = openai_client.files.list()\n",
    "if not files.data:\n",
    "    print(\"All files have been deleted successfully.\")\n",
    "else:\n",
    "    print(\"Some files were not deleted:\")\n",
    "    for f in files.data:\n",
    "        print(f\"{f.id} | {f.filename} | {f.purpose} | {f.status}\")"
   ]
  }
 ],
 "metadata": {
  "kernelspec": {
   "display_name": "llm",
   "language": "python",
   "name": "python3"
  },
  "language_info": {
   "codemirror_mode": {
    "name": "ipython",
    "version": 3
   },
   "file_extension": ".py",
   "mimetype": "text/x-python",
   "name": "python",
   "nbconvert_exporter": "python",
   "pygments_lexer": "ipython3",
   "version": "3.11.13"
  }
 },
 "nbformat": 4,
 "nbformat_minor": 5
}
