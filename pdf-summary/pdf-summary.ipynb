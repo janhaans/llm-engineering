{
 "cells": [
  {
   "cell_type": "markdown",
   "id": "1b19c1f5",
   "metadata": {},
   "source": [
    "# Introduction\n",
    "\n",
    "This notebook shows how to get a summary of a pdf document using OpenAI API"
   ]
  },
  {
   "cell_type": "markdown",
   "id": "7d22f7ac",
   "metadata": {},
   "source": [
    "# Load OpenAI API key"
   ]
  },
  {
   "cell_type": "code",
   "execution_count": null,
   "id": "85a98492",
   "metadata": {},
   "outputs": [],
   "source": [
    "import os\n",
    "from dotenv import load_dotenv\n",
    "\n",
    "load_dotenv()\n",
    "api_key = os.getenv(\"OPENAI_API_KEY\")\n",
    "\n",
    "if api_key:\n",
    "    print(f\"API key loaded: {api_key[:5]}... (truncated)\")\n",
    "else:\n",
    "    print(\"API key not loaded\")"
   ]
  },
  {
   "cell_type": "markdown",
   "id": "9f395f4c",
   "metadata": {},
   "source": [
    "# Create OpenAI client"
   ]
  },
  {
   "cell_type": "code",
   "execution_count": null,
   "id": "44eb0240",
   "metadata": {},
   "outputs": [],
   "source": [
    "from openai import OpenAI\n",
    "\n",
    "try:\n",
    "    openai_client = OpenAI()\n",
    "    print(\"OpenAI client created successfully.\")\n",
    "except Exception as e:\n",
    "    print(f\"Failed to create OpenAI client: {e}\")"
   ]
  },
  {
   "cell_type": "markdown",
   "id": "c327b752",
   "metadata": {},
   "source": [
    "# Upload a pdf document to OpenAI API Assistent"
   ]
  },
  {
   "cell_type": "code",
   "execution_count": null,
   "id": "5c87bff6",
   "metadata": {},
   "outputs": [],
   "source": [
    "file = openai_client.files.create(\n",
    "    file=open(\"Tech_Screening_Cloud_Architect.pdf\", \"rb\"),\n",
    "    purpose=\"assistants\"\n",
    ")\n",
    "print(\"Uploaded file ID:\", file.id)"
   ]
  },
  {
   "cell_type": "code",
   "execution_count": null,
   "id": "f2745ccc",
   "metadata": {},
   "outputs": [],
   "source": [
    "# Check the file you have uploaded\n",
    "files = openai_client.files.list()\n",
    "for f in files.data:\n",
    "    print(f\"{f.id} | {f.filename} | {f.purpose} | {f.status}\")"
   ]
  },
  {
   "cell_type": "markdown",
   "id": "f4229389",
   "metadata": {},
   "source": [
    "# Create API assistant"
   ]
  },
  {
   "cell_type": "code",
   "execution_count": null,
   "id": "92980fb1",
   "metadata": {},
   "outputs": [],
   "source": [
    "assistant = openai_client.beta.assistants.create(\n",
    "    name=\"Document Analyzer\",\n",
    "    instructions=\"You help summarize and analyze uploaded documents.\",\n",
    "    tools=[{\"type\": \"file_search\"}],\n",
    "    model=\"gpt-4o\"\n",
    ")\n",
    "print(\"Assistant ID:\", assistant.id)"
   ]
  },
  {
   "cell_type": "markdown",
   "id": "b28929ea",
   "metadata": {},
   "source": [
    "# Create a thread"
   ]
  },
  {
   "cell_type": "code",
   "execution_count": null,
   "id": "a6c85ea1",
   "metadata": {},
   "outputs": [],
   "source": [
    "thread = openai_client.beta.threads.create()\n",
    "print(\"Thread ID:\", thread.id)"
   ]
  },
  {
   "cell_type": "markdown",
   "id": "894373e0",
   "metadata": {},
   "source": [
    "# Send a message with attached file"
   ]
  },
  {
   "cell_type": "code",
   "execution_count": null,
   "id": "5a6b675c",
   "metadata": {},
   "outputs": [],
   "source": [
    "message = openai_client.beta.threads.messages.create(\n",
    "    thread_id=thread.id,\n",
    "    role=\"user\",\n",
    "    content=\"Can you summarize this document and write the summary in markdown format?\",\n",
    "    attachments=[\n",
    "                {\n",
    "                    \"file_id\": file.id,\n",
    "                    \"tools\": [{\"type\": \"file_search\"}]\n",
    "                }\n",
    "            ]\n",
    ")\n",
    "print(\"Message ID:\", message.id)"
   ]
  },
  {
   "cell_type": "markdown",
   "id": "da89cb0c",
   "metadata": {},
   "source": [
    "# Start a run and attach the pdf document"
   ]
  },
  {
   "cell_type": "code",
   "execution_count": null,
   "id": "17f5ceae",
   "metadata": {},
   "outputs": [],
   "source": [
    "run = openai_client.beta.threads.runs.create(\n",
    "            thread_id=thread.id,\n",
    "            assistant_id=assistant.id,\n",
    "        )"
   ]
  },
  {
   "cell_type": "markdown",
   "id": "451ad681",
   "metadata": {},
   "source": [
    "# Poll for result"
   ]
  },
  {
   "cell_type": "code",
   "execution_count": null,
   "id": "34e6cba8",
   "metadata": {},
   "outputs": [],
   "source": [
    "import time\n",
    "while True:\n",
    "    run_status = openai_client.beta.threads.runs.retrieve(thread_id=thread.id, run_id=run.id)\n",
    "    if run_status.status in [\"completed\", \"failed\"]:\n",
    "        break\n",
    "    time.sleep(1)"
   ]
  },
  {
   "cell_type": "markdown",
   "id": "f4dca017",
   "metadata": {},
   "source": [
    "# Read the assistant’s response"
   ]
  },
  {
   "cell_type": "code",
   "execution_count": null,
   "id": "11178bbd",
   "metadata": {},
   "outputs": [],
   "source": [
    "from IPython.display import Markdown, display\n",
    "\n",
    "def display_markdown(text):\n",
    "    display(Markdown(text))"
   ]
  },
  {
   "cell_type": "code",
   "execution_count": null,
   "id": "6a3cd90a",
   "metadata": {},
   "outputs": [],
   "source": [
    "messages = openai_client.beta.threads.messages.list(thread_id=thread.id)\n",
    "for msg in reversed(messages.data):\n",
    "    display_markdown(msg.content[0].text.value)"
   ]
  },
  {
   "cell_type": "markdown",
   "id": "3101865b",
   "metadata": {},
   "source": [
    "# Delete attached files"
   ]
  },
  {
   "cell_type": "code",
   "execution_count": null,
   "id": "a935daef",
   "metadata": {},
   "outputs": [],
   "source": [
    "files = openai_client.files.list()\n",
    "for f in files.data:\n",
    "    openai_client.files.delete(file_id=f.id)"
   ]
  },
  {
   "cell_type": "code",
   "execution_count": null,
   "id": "6431e950",
   "metadata": {},
   "outputs": [],
   "source": [
    "# Check if all files have been deleted\n",
    "\n",
    "files = openai_client.files.list()\n",
    "if not files.data:\n",
    "    print(\"All files have been deleted successfully.\")\n",
    "else:\n",
    "    print(\"Some files were not deleted:\")\n",
    "    for f in files.data:\n",
    "        print(f\"{f.id} | {f.filename} | {f.purpose} | {f.status}\")"
   ]
  }
 ],
 "metadata": {
  "kernelspec": {
   "display_name": "llm",
   "language": "python",
   "name": "python3"
  },
  "language_info": {
   "codemirror_mode": {
    "name": "ipython",
    "version": 3
   },
   "file_extension": ".py",
   "mimetype": "text/x-python",
   "name": "python",
   "nbconvert_exporter": "python",
   "pygments_lexer": "ipython3",
   "version": "3.11.13"
  }
 },
 "nbformat": 4,
 "nbformat_minor": 5
}
