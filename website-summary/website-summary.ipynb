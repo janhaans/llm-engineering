{
 "cells": [
  {
   "cell_type": "markdown",
   "id": "1792d92f",
   "metadata": {},
   "source": [
    "# Introduction\n",
    "\n",
    "This notebook shows how to get a summary of a website using Selenium, BeautifulSoup and OpenAI API."
   ]
  },
  {
   "cell_type": "markdown",
   "id": "3c91121f",
   "metadata": {},
   "source": [
    "# Load OpenAI API key"
   ]
  },
  {
   "cell_type": "code",
   "execution_count": 1,
   "id": "221105db",
   "metadata": {},
   "outputs": [
    {
     "name": "stdout",
     "output_type": "stream",
     "text": [
      "API key loaded: sk-pr... (truncated)\n"
     ]
    }
   ],
   "source": [
    "import os\n",
    "from dotenv import load_dotenv\n",
    "\n",
    "load_dotenv()\n",
    "api_key = os.getenv(\"OPENAI_API_KEY\")\n",
    "\n",
    "if api_key:\n",
    "    print(f\"API key loaded: {api_key[:5]}... (truncated)\")\n",
    "else:\n",
    "    print(\"API key not loaded\")"
   ]
  },
  {
   "cell_type": "markdown",
   "id": "c3d112da",
   "metadata": {},
   "source": [
    "# Get title and body of a website\n",
    "\n",
    "**Notes**: \n",
    "-  Many websites are rendered with Javascript, like React apps. [Selenium](https://www.selenium.dev/) is a solid solution for handling JavaScript-heavy pages. Selenium renders the full page like a browser would, so you get the final HTML after JavaScript execution. \n",
    "- Make sure [ChromeDriver](https://googlechromelabs.github.io/chrome-for-testing/#stable) is installed and in your `PATH` environment variable\n",
    "- Some websites detect automation tools like Selenium and is actively blocking access, possibly using Cloudflare's bot protection or similar JavaScript-based checks. Sites like https://openai.com, https://cloudflare.com, or https://medium.com use browser fingerprinting, JavaScript challenges, and cookie validation that headless browsers like Selenium can't easily pass out-of-the-box.\n",
    "- Do Not Attempt to Scrape Bot-Protected Sites. If the site explicitly forbids bots (check their robots.txt), scraping may be against their terms of service. "
   ]
  },
  {
   "cell_type": "code",
   "execution_count": 2,
   "id": "cf2d7f52",
   "metadata": {},
   "outputs": [],
   "source": [
    "from selenium import webdriver\n",
    "from selenium.webdriver.chrome.options import Options\n",
    "from bs4 import BeautifulSoup\n",
    "import time\n",
    "\n",
    "class WebSite:\n",
    "    def __init__(self, url, wait_time=3):\n",
    "        self.url = url\n",
    "        self.title = None\n",
    "        self.body = None\n",
    "\n",
    "        # Setup headless Chrome options\n",
    "        chrome_options = Options()\n",
    "        chrome_options.add_argument(\"--headless\")\n",
    "        chrome_options.add_argument(\"--disable-gpu\")\n",
    "        chrome_options.add_argument(\"--no-sandbox\")\n",
    "\n",
    "        try:\n",
    "            # Initialize WebDriver\n",
    "            driver = webdriver.Chrome(options=chrome_options)\n",
    "            driver.get(url)\n",
    "\n",
    "            # Wait for JavaScript to render (can adjust this)\n",
    "            time.sleep(wait_time)\n",
    "\n",
    "            # Get rendered page source\n",
    "            html = driver.page_source\n",
    "            driver.quit()\n",
    "\n",
    "            # Parse with BeautifulSoup\n",
    "            soup = BeautifulSoup(html, 'html.parser')\n",
    "\n",
    "            # Extract title\n",
    "            self.title = soup.title.string.strip() if soup.title and soup.title.string else None\n",
    "\n",
    "            # Remove unwanted tags\n",
    "            for tag in soup(['img', 'input', 'audio', 'video', 'script', 'style']):\n",
    "                tag.decompose()\n",
    "\n",
    "            # Extract and clean body text\n",
    "            body_tag = soup.body\n",
    "            self.body = body_tag.get_text(separator=' ', strip=True) if body_tag else None\n",
    "\n",
    "        except Exception as e:\n",
    "            print(f\"Failed to retrieve or parse the website: {e}\")\n"
   ]
  },
  {
   "cell_type": "markdown",
   "id": "bc4dd362",
   "metadata": {},
   "source": [
    "# Use OpenAI API to generate a summary of a website"
   ]
  },
  {
   "cell_type": "code",
   "execution_count": 3,
   "id": "41271d54",
   "metadata": {},
   "outputs": [],
   "source": [
    "# Define the system prompt \n",
    "\n",
    "system_prompt = \"You are an assistant that analyzes the contents of a website \\\n",
    "and provides a short summary, ignoring text that might be navigation related. \\\n",
    "Respond in markdown.\""
   ]
  },
  {
   "cell_type": "code",
   "execution_count": 4,
   "id": "c12c4d94",
   "metadata": {},
   "outputs": [],
   "source": [
    "# Create a user prompt using the title and body from a WebSite instance\n",
    "def user_prompt(website):\n",
    "    return f\"Website Title: {website.title}\\nWebsite Content: {website.body}\\n\\nPlease summarize the content in a concise manner.\""
   ]
  },
  {
   "cell_type": "code",
   "execution_count": 5,
   "id": "df2c45fb",
   "metadata": {},
   "outputs": [
    {
     "name": "stdout",
     "output_type": "stream",
     "text": [
      "OpenAI client created successfully.\n"
     ]
    }
   ],
   "source": [
    "# Create an openAI client\n",
    "from openai import OpenAI\n",
    "\n",
    "try:\n",
    "    openai_client = OpenAI()\n",
    "    print(\"OpenAI client created successfully.\")\n",
    "except Exception as e:\n",
    "    print(f\"Failed to create OpenAI client: {e}\")\n"
   ]
  },
  {
   "cell_type": "code",
   "execution_count": 6,
   "id": "db5cdb45",
   "metadata": {},
   "outputs": [],
   "source": [
    "# Function to get a summary from OpenAI\n",
    "def get_summary(url):\n",
    "    user_prompt_text = user_prompt(WebSite(url))\n",
    "    response = openai_client.chat.completions.create(\n",
    "        model=\"gpt-4o\",\n",
    "        messages=[\n",
    "            {\"role\": \"system\", \"content\": system_prompt},\n",
    "            {\"role\": \"user\", \"content\": user_prompt_text}\n",
    "        ]\n",
    "    )\n",
    "    return response.choices[0].message.content.strip()"
   ]
  },
  {
   "cell_type": "code",
   "execution_count": 7,
   "id": "7c1adcd6",
   "metadata": {},
   "outputs": [],
   "source": [
    "# Function to display markdown in Jupyter Notebook\n",
    "\n",
    "from IPython.display import Markdown, display\n",
    "\n",
    "def display_markdown(text):\n",
    "    display(Markdown(text))"
   ]
  },
  {
   "cell_type": "code",
   "execution_count": 8,
   "id": "5df5a7b4",
   "metadata": {},
   "outputs": [
    {
     "data": {
      "text/markdown": [
       "The CNN website provides current news across various topics including US and world politics, business, health, entertainment, and science. It covers major ongoing geopolitical events such as the Ukraine-Russia war and the Israel-Hamas conflict. The site also features sections on technology, climate, style, travel, sports, and opinion pieces. In addition, CNN offers video content, live TV options, and podcasts. The homepage highlights a mix of breaking news, analysis, and human interest stories designed to engage a wide audience. It also provides feedback options for users to report issues with video content and advertisements."
      ],
      "text/plain": [
       "<IPython.core.display.Markdown object>"
      ]
     },
     "metadata": {},
     "output_type": "display_data"
    }
   ],
   "source": [
    "# Use OpenAI API to generate a summary of cnn\n",
    "summary = get_summary(\"https://www.cnn.com\")\n",
    "display_markdown(summary)"
   ]
  },
  {
   "cell_type": "code",
   "execution_count": 9,
   "id": "2bd4dc53",
   "metadata": {},
   "outputs": [
    {
     "data": {
      "text/markdown": [
       "NU.nl provides the latest news updates in Dutch across various categories such as national and international events, politics, economy, sports, culture, and more. Key stories include the continuation of the Tomorrowland festival despite a mainstage fire, a ceasefire agreement in Syria, and a case of femicide in Gouda. Other highlights include issues in the housing market, particularly the pressure in the social rental sector, and updates on economic activities such as the European Commission's tax plans. In sports, there are updates from the Tour de France and football transfers, while in culture, the auction of Darth Vader's lightsaber and other media highlights are featured. The platform also offers video content, discussions, and recommendations for entertainment and lifestyle."
      ],
      "text/plain": [
       "<IPython.core.display.Markdown object>"
      ]
     },
     "metadata": {},
     "output_type": "display_data"
    }
   ],
   "source": [
    "# Use OpenAI API to generate a summary of www.nu.nl\n",
    "summary = get_summary(\"https://www.nu.nl\")\n",
    "display_markdown(summary)"
   ]
  }
 ],
 "metadata": {
  "kernelspec": {
   "display_name": "llm",
   "language": "python",
   "name": "python3"
  },
  "language_info": {
   "codemirror_mode": {
    "name": "ipython",
    "version": 3
   },
   "file_extension": ".py",
   "mimetype": "text/x-python",
   "name": "python",
   "nbconvert_exporter": "python",
   "pygments_lexer": "ipython3",
   "version": "3.11.13"
  }
 },
 "nbformat": 4,
 "nbformat_minor": 5
}
