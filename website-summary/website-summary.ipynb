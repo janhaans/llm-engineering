{
 "cells": [
  {
   "cell_type": "markdown",
   "id": "3c91121f",
   "metadata": {},
   "source": [
    "# Load OpenAI API key"
   ]
  },
  {
   "cell_type": "code",
   "execution_count": 1,
   "id": "221105db",
   "metadata": {},
   "outputs": [
    {
     "name": "stdout",
     "output_type": "stream",
     "text": [
      "API key loaded: sk-pr... (truncated)\n"
     ]
    }
   ],
   "source": [
    "import os\n",
    "from dotenv import load_dotenv\n",
    "\n",
    "load_dotenv()\n",
    "api_key = os.getenv(\"OPENAI_API_KEY\")\n",
    "\n",
    "if api_key:\n",
    "    print(f\"API key loaded: {api_key[:5]}... (truncated)\")\n",
    "else:\n",
    "    print(\"API key not loaded\")"
   ]
  },
  {
   "cell_type": "markdown",
   "id": "c3d112da",
   "metadata": {},
   "source": [
    "# Get title and body of the website\n",
    "\n",
    "**Note**: make sure [ChromeDriver](https://googlechromelabs.github.io/chrome-for-testing/#stable) is installed and in your `PATH`"
   ]
  },
  {
   "cell_type": "code",
   "execution_count": 3,
   "id": "cf2d7f52",
   "metadata": {},
   "outputs": [],
   "source": [
    "from selenium import webdriver\n",
    "from selenium.webdriver.chrome.options import Options\n",
    "from bs4 import BeautifulSoup\n",
    "import time\n",
    "\n",
    "class WebSite:\n",
    "    def __init__(self, url, wait_time=3):\n",
    "        self.url = url\n",
    "        self.title = None\n",
    "        self.body = None\n",
    "\n",
    "        # Setup headless Chrome options\n",
    "        chrome_options = Options()\n",
    "        chrome_options.add_argument(\"--headless\")\n",
    "        chrome_options.add_argument(\"--disable-gpu\")\n",
    "        chrome_options.add_argument(\"--no-sandbox\")\n",
    "\n",
    "        try:\n",
    "            # Initialize WebDriver\n",
    "            driver = webdriver.Chrome(options=chrome_options)\n",
    "            driver.get(url)\n",
    "\n",
    "            # Wait for JavaScript to render (can adjust this)\n",
    "            time.sleep(wait_time)\n",
    "\n",
    "            # Get rendered page source\n",
    "            html = driver.page_source\n",
    "            driver.quit()\n",
    "\n",
    "            # Parse with BeautifulSoup\n",
    "            soup = BeautifulSoup(html, 'html.parser')\n",
    "\n",
    "            # Extract title\n",
    "            self.title = soup.title.string.strip() if soup.title and soup.title.string else None\n",
    "\n",
    "            # Remove unwanted tags\n",
    "            for tag in soup(['img', 'input', 'audio', 'video', 'script', 'style']):\n",
    "                tag.decompose()\n",
    "\n",
    "            # Extract and clean body text\n",
    "            body_tag = soup.body\n",
    "            self.body = body_tag.get_text(separator=' ', strip=True) if body_tag else None\n",
    "\n",
    "        except Exception as e:\n",
    "            print(f\"Failed to retrieve or parse the website: {e}\")\n"
   ]
  },
  {
   "cell_type": "code",
   "execution_count": 4,
   "id": "1956946b",
   "metadata": {},
   "outputs": [
    {
     "name": "stdout",
     "output_type": "stream",
     "text": [
      "Title: Breaking News, Latest News and Videos | CNN\n",
      "Body: CNN values your feedback 1. How relevant is this ad to you? 2. Did you encounter any technical issues? Video player was slow to load content Video content never loaded Ad froze or did not finish loadi...\n"
     ]
    }
   ],
   "source": [
    "cnn = WebSite(\"https://www.cnn.com\")\n",
    "print(f\"Title: {cnn.title}\")\n",
    "print(f\"Body: {cnn.body[:200]}...\")  # Print first 200 characters of body text"
   ]
  },
  {
   "cell_type": "code",
   "execution_count": 7,
   "id": "40633e5f",
   "metadata": {},
   "outputs": [
    {
     "name": "stdout",
     "output_type": "stream",
     "text": [
      "Title: Just a moment...\n",
      "Body: Waiting for www.openai.com to respond... Enable JavaScript and cookies to continue...\n"
     ]
    }
   ],
   "source": [
    "openai = WebSite(\"https://www.openai.com\")\n",
    "print(f\"Title: {openai.title}\")\n",
    "print(f\"Body: {openai.body[:500]}...\")  # Print first 200 characters of body text"
   ]
  },
  {
   "cell_type": "code",
   "execution_count": null,
   "id": "41271d54",
   "metadata": {},
   "outputs": [],
   "source": []
  }
 ],
 "metadata": {
  "kernelspec": {
   "display_name": "llm",
   "language": "python",
   "name": "python3"
  },
  "language_info": {
   "codemirror_mode": {
    "name": "ipython",
    "version": 3
   },
   "file_extension": ".py",
   "mimetype": "text/x-python",
   "name": "python",
   "nbconvert_exporter": "python",
   "pygments_lexer": "ipython3",
   "version": "3.11.13"
  }
 },
 "nbformat": 4,
 "nbformat_minor": 5
}
